{
  "nbformat": 4,
  "nbformat_minor": 0,
  "metadata": {
    "colab": {
      "provenance": []
    },
    "kernelspec": {
      "name": "python3",
      "display_name": "Python 3"
    },
    "language_info": {
      "name": "python"
    }
  },
  "cells": [
    {
      "cell_type": "markdown",
      "source": [
        "#Assignment-1 (PYTHON BASICS)\n",
        "#THEORY\n",
        "\n",
        "\n",
        "\n"
      ],
      "metadata": {
        "id": "2icy_Wc9EQHw"
      }
    },
    {
      "cell_type": "markdown",
      "source": [
        "#1. What is Python, and why is it popular ?\n",
        "\n",
        "  -Python is a high-level, interpreted programming language known for its simplicity, readability, and versatility."
      ],
      "metadata": {
        "id": "COR1GTl3EgBE"
      }
    },
    {
      "cell_type": "markdown",
      "source": [
        "#2. What is an interpreter in Python ?\n",
        "\n",
        "  -An interpreter is a program that reads and executes your Python code line by line — it doesn’t convert the whole thing into machine code all at once like a compiler does."
      ],
      "metadata": {
        "id": "IIOvS3EkHiBb"
      }
    },
    {
      "cell_type": "markdown",
      "source": [
        "#3.What are pre-defined keywords in Python ?\n",
        "\n",
        "  -Pre-defined keywords in Python are special words that are built into the language. These words have a fixed meaning and are used to define the syntax and structure of Python code.\n",
        "\n"
      ],
      "metadata": {
        "id": "jrrVYkVWH6jt"
      }
    },
    {
      "cell_type": "markdown",
      "source": [
        "#4.Can keywords be used as variable names ?\n",
        "\n",
        "  -No, we cannot use keywords as variable names in Python"
      ],
      "metadata": {
        "id": "gJwV3FhcIwCp"
      }
    },
    {
      "cell_type": "markdown",
      "source": [
        "#5.What is mutability in Python ?\n",
        "\n",
        "  -Mutability refers to whether or not an object’s value can be changed after it’s created."
      ],
      "metadata": {
        "id": "LCnhqSx4JeFB"
      }
    },
    {
      "cell_type": "markdown",
      "source": [
        "#6. Why are lists mutable, but tuples are immutable ?\n",
        "\n",
        "  -both data types are created for different purposes where, Python designed lists to be flexible containers where:\n",
        "\n",
        "   we can add, remove, or change items freely.They're often used when data needs to change over time.But incase of tuples Python designed tuples for fixed data where Tuples are often used when we want to protect data from changes, or use it as a key in a dictionary"
      ],
      "metadata": {
        "id": "Ql4o_DbrJ-Lx"
      }
    },
    {
      "cell_type": "markdown",
      "source": [
        "#7.What is the difference between “==” and “is” operators in Python ?\n",
        "  -'==' (Equality operator)\n",
        "Checks if two values are equal in content where 'is' (Identity operator)\n",
        "Checks if two variables point to the exact same object in memory."
      ],
      "metadata": {
        "id": "c5lA0CgkLbGZ"
      }
    },
    {
      "cell_type": "markdown",
      "source": [
        "#8.What are logical operators in Python ?\n",
        "  -Logical operators are used to combine conditional statements and return True or False based on logic they are 1.and 2.or 3.not"
      ],
      "metadata": {
        "id": "ySLdgshUNkEI"
      }
    },
    {
      "cell_type": "markdown",
      "source": [
        "#9.What is type casting in Python ?\n",
        "  -Type casting is also called type conversion it is the process of converting one data type into another."
      ],
      "metadata": {
        "id": "BU1dOg3cOsNg"
      }
    },
    {
      "cell_type": "markdown",
      "source": [
        "#10.What is the difference between implicit and explicit type casting ?\n",
        "  -In case of implicit type casting Python automatically converts data types without telling it but in case of explicit type casting we manually convert the data type using functions like int(), float(), str(), etc.\n"
      ],
      "metadata": {
        "id": "Z7gUb6pQPsdA"
      }
    },
    {
      "cell_type": "markdown",
      "source": [
        "#11. What is the purpose of conditional statements in Python ?\n",
        "  -Conditional statements allow us to make decisions in our code based on whether certain conditions are True or False and they helpour program choose different actions depending on the situation, essentially controlling the flow of the program."
      ],
      "metadata": {
        "id": "K2YDJFZBQnF3"
      }
    },
    {
      "cell_type": "markdown",
      "source": [
        "#12.How does the elif statement work ?\n",
        "  -The elif (short for \"else if\") statement allows you to check multiple conditions one after another. If the first if condition is False, Python checks the next condition in the elif block. If that’s True, it executes the code under that elif block. If all conditions are False, it can fall back to the else block (if provided)."
      ],
      "metadata": {
        "id": "UD1aocyyRG2j"
      }
    },
    {
      "cell_type": "markdown",
      "source": [
        "#13.What is the difference between for and while loops ?\n",
        "   -The while loop is used when we want to repeat something as long as a condition is True. It will continue until the condition becomes False.But in case of for loop it is used whenwe know how many times we want to iterate over a sequence like a list, string, or range."
      ],
      "metadata": {
        "id": "WEl9RfkoSPXz"
      }
    },
    {
      "cell_type": "markdown",
      "source": [
        "#14.Describe a scenario where a while loop is more suitable than a for loop\n",
        "   -In situations where we don't know how many times the user will need to input data and we just want to keep asking until we get the correct or desired input, a while loop is more suitable than a for loop."
      ],
      "metadata": {
        "id": "EKReWB_1TKy4"
      }
    },
    {
      "cell_type": "code",
      "source": [
        "#to get a valid age from a user\n",
        "while True:\n",
        "    age = input(\"Please enter your age: \")\n",
        "    if age.isdigit() and int(age) > 0:\n",
        "        print(f\"Your age is {age}.\")\n",
        "        break  # exit the loop once a valid input is provided\n",
        "    else:\n",
        "        print(\"Invalid input. Please enter a positive integer.\")"
      ],
      "metadata": {
        "colab": {
          "base_uri": "https://localhost:8080/"
        },
        "id": "ME92VXaIUcNf",
        "outputId": "3f60446f-5774-44f9-b1f1-97cc12ba38f5"
      },
      "execution_count": null,
      "outputs": [
        {
          "output_type": "stream",
          "name": "stdout",
          "text": [
            "Please enter your age: 13\n",
            "Your age is 13.\n"
          ]
        }
      ]
    },
    {
      "cell_type": "code",
      "source": [
        "#if we code it using for loop max attemt needs to be mentioned other wise it may leeads to end less iterations\n",
        "max_attempts = 3\n",
        "\n",
        "for attempt in range(max_attempts):\n",
        "    age = input(\"Please enter your age: \")\n",
        "    if age.isdigit() and int(age) > 0:\n",
        "        print(f\"Your age is {age}.\")\n",
        "        break  # exit the loop once a valid input is provided\n",
        "    else:\n",
        "        print(f\"Invalid input. You have {max_attempts - attempt - 1} attempts left.\")\n",
        "else:\n",
        "    print(\"Sorry, you've exceeded the maximum number of attempts.\")"
      ],
      "metadata": {
        "colab": {
          "base_uri": "https://localhost:8080/"
        },
        "id": "AJq0FEkCUm_q",
        "outputId": "b0cb1cf3-369c-4d5c-c6a2-cc178e3d61ba"
      },
      "execution_count": null,
      "outputs": [
        {
          "output_type": "stream",
          "name": "stdout",
          "text": [
            "Please enter your age: -23\n",
            "Invalid input. You have 2 attempts left.\n",
            "Please enter your age: -9\n",
            "Invalid input. You have 1 attempts left.\n",
            "Please enter your age: -4\n",
            "Invalid input. You have 0 attempts left.\n",
            "Sorry, you've exceeded the maximum number of attempts.\n"
          ]
        }
      ]
    },
    {
      "cell_type": "markdown",
      "source": [
        "#PRACTICAL"
      ],
      "metadata": {
        "id": "OTUcBbQLVwiJ"
      }
    },
    {
      "cell_type": "code",
      "source": [
        "#1.Write a Python program to print \"Hello, World!\"\n",
        "print(\"Hello, World! \")"
      ],
      "metadata": {
        "colab": {
          "base_uri": "https://localhost:8080/"
        },
        "id": "GjbaOkRgVnbH",
        "outputId": "27fd3f70-ad1e-41ec-ab33-e6868ca22cd7"
      },
      "execution_count": null,
      "outputs": [
        {
          "output_type": "stream",
          "name": "stdout",
          "text": [
            "Hello, World! \n"
          ]
        }
      ]
    },
    {
      "cell_type": "code",
      "source": [
        "#2.Write a Python program that displays your name and age.\n",
        "Name=\"Sujit Saideep Biswal\"\n",
        "Age=32\n",
        "print(Name)\n",
        "print(Age)"
      ],
      "metadata": {
        "colab": {
          "base_uri": "https://localhost:8080/"
        },
        "id": "osUpTNPueKZi",
        "outputId": "3e90e9c2-63d2-4037-9c4e-c125d9258d5e"
      },
      "execution_count": null,
      "outputs": [
        {
          "output_type": "stream",
          "name": "stdout",
          "text": [
            "Sujit Saideep Biswal\n",
            "32\n"
          ]
        }
      ]
    },
    {
      "cell_type": "code",
      "source": [
        "#3. Write code to print all the pre-defined keywords in Python using the keyword library\n",
        "import keyword\n",
        "\n",
        "print(keyword.kwlist)\n",
        "\n"
      ],
      "metadata": {
        "colab": {
          "base_uri": "https://localhost:8080/"
        },
        "id": "JzdWGqade7FV",
        "outputId": "4f27c250-43f2-4b65-e9c8-0748a5858a21"
      },
      "execution_count": null,
      "outputs": [
        {
          "output_type": "stream",
          "name": "stdout",
          "text": [
            "['False', 'None', 'True', 'and', 'as', 'assert', 'async', 'await', 'break', 'class', 'continue', 'def', 'del', 'elif', 'else', 'except', 'finally', 'for', 'from', 'global', 'if', 'import', 'in', 'is', 'lambda', 'nonlocal', 'not', 'or', 'pass', 'raise', 'return', 'try', 'while', 'with', 'yield']\n"
          ]
        }
      ]
    },
    {
      "cell_type": "code",
      "source": [
        "#4. Write a program that checks if a given word is a Python keyword\n",
        "import keyword\n",
        "\n",
        "# Ask user to enter a word\n",
        "word = input(\"Enter a word: \")\n",
        "\n",
        "# Check if the word is in the list of Python keywords\n",
        "if word in keyword.kwlist:\n",
        "    print(\"it is a Python keyword.\")\n",
        "else:\n",
        "    print(\"it's NOT a Python keyword.\")\n",
        "\n",
        "\n",
        "\n"
      ],
      "metadata": {
        "colab": {
          "base_uri": "https://localhost:8080/"
        },
        "id": "cwnnEQyrgbUB",
        "outputId": "0e5307dc-f35e-4660-c422-4ddb3cfb1f39"
      },
      "execution_count": null,
      "outputs": [
        {
          "output_type": "stream",
          "name": "stdout",
          "text": [
            "Enter a word: june\n",
            "it's NOT a Python keyword.\n"
          ]
        }
      ]
    },
    {
      "cell_type": "code",
      "source": [
        "5.#Create a list and tuple in Python, and demonstrate how attempting to change an element works differently for each.\n",
        "\n",
        "# Creating a list\n",
        "pw_list = [10, 20, 30]\n",
        "\n",
        "# Creating a tuple\n",
        "pw_tuple = (10, 20, 30)\n",
        "\n",
        "# Changing an element in the list\n",
        "pw_list[1] = 99\n",
        "print(\"Updated pw_list:\", pw_list)\n",
        "\n",
        "# Trying to change an element in the tuple\n",
        "pw_tuple[1] = 99  # This will cause an error!\n",
        "print(\"Updated tuple:\", pw_tuple)\n",
        "\n"
      ],
      "metadata": {
        "colab": {
          "base_uri": "https://localhost:8080/",
          "height": 228
        },
        "id": "fhIxzorNkXIi",
        "outputId": "370930b6-9ca5-4150-c080-c2b5e60e8d9d"
      },
      "execution_count": null,
      "outputs": [
        {
          "output_type": "stream",
          "name": "stdout",
          "text": [
            "Updated pw_list: [10, 99, 30]\n"
          ]
        },
        {
          "output_type": "error",
          "ename": "TypeError",
          "evalue": "'tuple' object does not support item assignment",
          "traceback": [
            "\u001b[0;31m---------------------------------------------------------------------------\u001b[0m",
            "\u001b[0;31mTypeError\u001b[0m                                 Traceback (most recent call last)",
            "\u001b[0;32m<ipython-input-18-4ec5e86e4560>\u001b[0m in \u001b[0;36m<cell line: 0>\u001b[0;34m()\u001b[0m\n\u001b[1;32m     12\u001b[0m \u001b[0;34m\u001b[0m\u001b[0m\n\u001b[1;32m     13\u001b[0m \u001b[0;31m# Trying to change an element in the tuple\u001b[0m\u001b[0;34m\u001b[0m\u001b[0;34m\u001b[0m\u001b[0m\n\u001b[0;32m---> 14\u001b[0;31m \u001b[0mpw_tuple\u001b[0m\u001b[0;34m[\u001b[0m\u001b[0;36m1\u001b[0m\u001b[0;34m]\u001b[0m \u001b[0;34m=\u001b[0m \u001b[0;36m99\u001b[0m  \u001b[0;31m# This will cause an error!\u001b[0m\u001b[0;34m\u001b[0m\u001b[0;34m\u001b[0m\u001b[0m\n\u001b[0m\u001b[1;32m     15\u001b[0m \u001b[0mprint\u001b[0m\u001b[0;34m(\u001b[0m\u001b[0;34m\"Updated tuple:\"\u001b[0m\u001b[0;34m,\u001b[0m \u001b[0mpw_tuple\u001b[0m\u001b[0;34m)\u001b[0m\u001b[0;34m\u001b[0m\u001b[0;34m\u001b[0m\u001b[0m\n\u001b[1;32m     16\u001b[0m \u001b[0;34m\u001b[0m\u001b[0m\n",
            "\u001b[0;31mTypeError\u001b[0m: 'tuple' object does not support item assignment"
          ]
        }
      ]
    },
    {
      "cell_type": "code",
      "source": [
        "#6.Write a function to demonstrate the behavior of mutable and immutable arguments\n",
        "def change_values(num, my_list):\n",
        "    num = 100          # Trying to change an integer (immutable)\n",
        "    my_list[0] = 999   # Changing the first item of the list (mutable)\n",
        "\n",
        "# Main code\n",
        "number = 10\n",
        "numbers_list = [1, 2, 3]\n",
        "\n",
        "change_values(number, numbers_list)\n",
        "\n",
        "print(\"number:\", number)           # Will still be 10\n",
        "print(\"numbers_list:\", numbers_list)  # Will be [999, 2, 3]\n"
      ],
      "metadata": {
        "colab": {
          "base_uri": "https://localhost:8080/"
        },
        "id": "cj6SuqFYmq6a",
        "outputId": "3cf94e45-5560-4f75-e4d0-b43ce94e6762"
      },
      "execution_count": null,
      "outputs": [
        {
          "output_type": "stream",
          "name": "stdout",
          "text": [
            "number: 10\n",
            "numbers_list: [999, 2, 3]\n"
          ]
        }
      ]
    },
    {
      "cell_type": "code",
      "source": [
        "#7.Write a function to demonstrate the behavior of mutable and immutable arguments\n",
        "def test_mutable_immutable(x, mylist):\n",
        "    x = x + 1            # Try to change integer (immutable)\n",
        "    mylist[0] = 100      # Change first element of list (mutable)\n",
        "\n",
        "# Main program\n",
        "a = 10\n",
        "b = [1, 2, 3]\n",
        "\n",
        "test_mutable_immutable(a, b)\n",
        "\n",
        "print(\"a =\", a)         # Output: 10 (unchanged)\n",
        "print(\"b =\", b)         # Output: [100, 2, 3] (changed)\n"
      ],
      "metadata": {
        "colab": {
          "base_uri": "https://localhost:8080/"
        },
        "id": "AnByEkj5oEP_",
        "outputId": "1a7cfce9-408a-4082-a85d-e6bb52bbbb0b"
      },
      "execution_count": null,
      "outputs": [
        {
          "output_type": "stream",
          "name": "stdout",
          "text": [
            "a = 10\n",
            "b = [100, 2, 3]\n"
          ]
        }
      ]
    },
    {
      "cell_type": "code",
      "source": [
        "#8.Write a program to demonstrate the use of logical operators\n",
        "# Input from user\n",
        "age = int(input(\"Enter your age: \"))\n",
        "has_id = input(\"Do you have an ID card? (yes/no): \")\n",
        "\n",
        "# Using logical operators\n",
        "if age >= 18 and has_id == \"yes\":\n",
        "    print(\"✅ You are allowed to enter.\")\n",
        "elif age >= 18 or has_id == \"yes\":\n",
        "    print(\"⚠️ You might be allowed, but please check at the gate.\")\n",
        "else:\n",
        "    print(\"❌ You are not allowed to enter.\")\n",
        "\n",
        "# Using 'not' operator\n",
        "if not age < 18:\n",
        "    print(\"You are an adult.\")\n",
        "else:\n",
        "    print(\"You are a minor.\")\n"
      ],
      "metadata": {
        "colab": {
          "base_uri": "https://localhost:8080/"
        },
        "id": "qljhhErXoYrN",
        "outputId": "436b7159-948f-41a3-d557-890f0c42f4d2"
      },
      "execution_count": null,
      "outputs": [
        {
          "output_type": "stream",
          "name": "stdout",
          "text": [
            "Enter your age: 18\n",
            "Do you have an ID card? (yes/no): no\n",
            "⚠️ You might be allowed, but please check at the gate.\n",
            "You are an adult.\n"
          ]
        }
      ]
    },
    {
      "cell_type": "code",
      "source": [
        "#9.Write a Python program to convert user input from string to integer, float, and boolean types\n",
        "user_input=input(\"enter a string\")\n",
        "int_value=int(user_input)\n",
        "float_value=float(user_input)\n",
        "bool_value=bool(user_input)\n",
        "print(int_value)\n",
        "print(float_value)\n",
        "print(bool_value)\n",
        "\n",
        "\n"
      ],
      "metadata": {
        "colab": {
          "base_uri": "https://localhost:8080/"
        },
        "id": "2QOq0QMfrdVs",
        "outputId": "a68763e8-8290-45a4-a8ba-b502d8b488bd"
      },
      "execution_count": null,
      "outputs": [
        {
          "output_type": "stream",
          "name": "stdout",
          "text": [
            "enter a string5\n",
            "5\n",
            "5.0\n",
            "True\n"
          ]
        }
      ]
    },
    {
      "cell_type": "code",
      "source": [
        "#10.Write code to demonstrate type casting with list elements\n",
        "l=['10', '20', '30'] #string to integer\n",
        "m=[int(i)for i in l]\n",
        "print(m)\n"
      ],
      "metadata": {
        "id": "iolYJZgXuxkV",
        "colab": {
          "base_uri": "https://localhost:8080/"
        },
        "outputId": "74671aa1-63e9-468b-c59c-d04c7346a831"
      },
      "execution_count": null,
      "outputs": [
        {
          "output_type": "stream",
          "name": "stdout",
          "text": [
            "[10, 20, 30]\n"
          ]
        }
      ]
    },
    {
      "cell_type": "code",
      "source": [
        "#11.Write a program that checks if a number is positive, negative, or zero\n",
        "number = float(input(\"Enter a number: \"))\n",
        "\n",
        "if number > 0:\n",
        "    print(\"The number is positive.\")\n",
        "elif number < 0:\n",
        "    print(\"The number is negative.\")\n",
        "else:\n",
        "    print(\"The number is zero.\")\n",
        "\n",
        "\n"
      ],
      "metadata": {
        "colab": {
          "base_uri": "https://localhost:8080/"
        },
        "id": "A-o3FAWdbZpm",
        "outputId": "49f92afb-9d05-4f25-c6cb-4b1281a3b1ab"
      },
      "execution_count": null,
      "outputs": [
        {
          "output_type": "stream",
          "name": "stdout",
          "text": [
            "Enter a number: -6\n",
            "The number is negative.\n"
          ]
        }
      ]
    },
    {
      "cell_type": "code",
      "source": [
        "#12.Write a for loop to print numbers from 1 to 10\n",
        "for i in range(1,11):\n",
        "  print(i,end=\" \")"
      ],
      "metadata": {
        "colab": {
          "base_uri": "https://localhost:8080/"
        },
        "id": "3mT4er-FcAty",
        "outputId": "3c075e45-4e3e-4daf-f991-b7578e316a70"
      },
      "execution_count": null,
      "outputs": [
        {
          "output_type": "stream",
          "name": "stdout",
          "text": [
            "1 2 3 4 5 6 7 8 9 10 "
          ]
        }
      ]
    },
    {
      "cell_type": "code",
      "source": [
        "#13.Write a Python program to find the sum of all even numbers between 1 and 50\n",
        "k=0 #i have placd k=0 in the outer loop\n",
        "for i in range(1,51):\n",
        "  if i%2==0:\n",
        "    k+=i\n",
        "print(\"sum of even no from 1 to 50 is\",k)\n",
        "\n"
      ],
      "metadata": {
        "colab": {
          "base_uri": "https://localhost:8080/"
        },
        "id": "ouMJO_alcjEi",
        "outputId": "0b2c220b-0097-429e-cfb4-f4f44d66a3eb"
      },
      "execution_count": 6,
      "outputs": [
        {
          "output_type": "stream",
          "name": "stdout",
          "text": [
            "sum of even no from 1 to 50 is 650\n"
          ]
        }
      ]
    },
    {
      "cell_type": "code",
      "source": [
        "#14.Write a program to reverse a string using a while loop\n",
        "a = input(\"Enter a string: \")\n",
        "b = \"\"\n",
        "c = len(a) - 1\n",
        "\n",
        "while c >= 0:\n",
        "    b += a[c]\n",
        "    c -= 1\n",
        "print(\"Reversed string:\", b)\n",
        "\n",
        ""
      ],
      "metadata": {
        "id": "ByOwIck4gmnd",
        "colab": {
          "base_uri": "https://localhost:8080/"
        },
        "outputId": "6fe40019-f868-4b62-844e-fbdb3612ac67"
      },
      "execution_count": 13,
      "outputs": [
        {
          "output_type": "stream",
          "name": "stdout",
          "text": [
            "Enter a string: now\n",
            "Reversed string: won\n"
          ]
        }
      ]
    },
    {
      "cell_type": "code",
      "source": [
        "#15. Write a Python program to calculate the factorial of a number provided by the user using a while loop.\n",
        "a=int(input(\"enter an integer:\"))\n",
        "b=1\n",
        "while a > 0:\n",
        "  b*=a\n",
        "  a=a-1\n",
        "print(\"factorial of given number is\",b)\n",
        "\n",
        "\n"
      ],
      "metadata": {
        "colab": {
          "base_uri": "https://localhost:8080/"
        },
        "id": "auLxwW_8LzX0",
        "outputId": "545b4be6-13ba-425b-b093-d31b56a8811c"
      },
      "execution_count": 17,
      "outputs": [
        {
          "output_type": "stream",
          "name": "stdout",
          "text": [
            "enter an integer:4\n",
            "factorial of given number is 24\n"
          ]
        }
      ]
    },
    {
      "cell_type": "code",
      "source": [],
      "metadata": {
        "id": "YPOSg8W5WHBr"
      },
      "execution_count": null,
      "outputs": []
    }
  ]
}